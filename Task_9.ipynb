{
  "nbformat": 4,
  "nbformat_minor": 0,
  "metadata": {
    "colab": {
      "provenance": [],
      "authorship_tag": "ABX9TyMi6XiqZ+T9KaJYYN25AKCt",
      "include_colab_link": true
    },
    "kernelspec": {
      "name": "python3",
      "display_name": "Python 3"
    },
    "language_info": {
      "name": "python"
    }
  },
  "cells": [
    {
      "cell_type": "markdown",
      "metadata": {
        "id": "view-in-github",
        "colab_type": "text"
      },
      "source": [
        "<a href=\"https://colab.research.google.com/github/MSuhochev/Home_works_intro_to_Python/blob/Seminar_9/Task_9.ipynb\" target=\"_parent\"><img src=\"https://colab.research.google.com/assets/colab-badge.svg\" alt=\"Open In Colab\"/></a>"
      ]
    },
    {
      "cell_type": "code",
      "execution_count": 9,
      "metadata": {
        "id": "TOiYcVdTGJK0"
      },
      "outputs": [],
      "source": [
        "import pandas as pd"
      ]
    },
    {
      "cell_type": "code",
      "source": [
        "df = pd.read_csv(\"sample_data/california_housing_train.csv\")"
      ],
      "metadata": {
        "id": "VTyl7WbtHovv"
      },
      "execution_count": 10,
      "outputs": []
    },
    {
      "cell_type": "markdown",
      "source": [
        "# 9.1[40]: Работа в Google Colab. Файл california_housing_train.csv, который находится в папке sample_data\n",
        "Для домов, где кол-во людей от 0 до 500 (population) вывести информацию  о цене  дома(median_house_value):\n",
        "\n",
        "- максимальное значение\n",
        "- минимальное значение\n",
        "- среднее\n",
        "- медиану"
      ],
      "metadata": {
        "id": "3jqW7iskQS8e"
      }
    },
    {
      "cell_type": "code",
      "source": [
        "df[(df['population'] < 500) & (df['population'] > 0)] [\"median_house_value\"]"
      ],
      "metadata": {
        "colab": {
          "base_uri": "https://localhost:8080/"
        },
        "id": "zo7v7ZJMQZg5",
        "outputId": "c4a33efe-c7f9-4e85-9ba5-ff0720523047"
      },
      "execution_count": 19,
      "outputs": [
        {
          "output_type": "execute_result",
          "data": {
            "text/plain": [
              "2         85700.0\n",
              "7         48500.0\n",
              "17        25000.0\n",
              "19        27500.0\n",
              "21        59200.0\n",
              "           ...   \n",
              "16944    130600.0\n",
              "16951     67500.0\n",
              "16969     60000.0\n",
              "16982    107000.0\n",
              "16994     76100.0\n",
              "Name: median_house_value, Length: 1601, dtype: float64"
            ]
          },
          "metadata": {},
          "execution_count": 19
        }
      ]
    },
    {
      "cell_type": "code",
      "source": [
        "print (df[(df['population'] < 500) & (df['population'] > 0)] [\"median_house_value\"].max())"
      ],
      "metadata": {
        "colab": {
          "base_uri": "https://localhost:8080/"
        },
        "id": "TI0OZnyvR_Be",
        "outputId": "2c57a6dd-7b43-439a-a595-53f835ffa410"
      },
      "execution_count": 22,
      "outputs": [
        {
          "output_type": "stream",
          "name": "stdout",
          "text": [
            "500001.0\n"
          ]
        }
      ]
    },
    {
      "cell_type": "code",
      "source": [
        "print(df[(df['population'] < 500) & (df['population'] > 0)] [\"median_house_value\"].min())"
      ],
      "metadata": {
        "colab": {
          "base_uri": "https://localhost:8080/"
        },
        "id": "jcKzdawYSDdT",
        "outputId": "d68e4c41-f53d-4c64-fd2f-6a4e68592185"
      },
      "execution_count": 23,
      "outputs": [
        {
          "output_type": "stream",
          "name": "stdout",
          "text": [
            "14999.0\n"
          ]
        }
      ]
    },
    {
      "cell_type": "code",
      "source": [
        "print(df[(df['population'] < 500) & (df['population'] > 0)] [\"median_house_value\"].mean())"
      ],
      "metadata": {
        "colab": {
          "base_uri": "https://localhost:8080/"
        },
        "id": "OzRsDGs_SJ3G",
        "outputId": "9ad4b4b2-7dbe-45ba-f0cc-4692c0ebbc47"
      },
      "execution_count": 24,
      "outputs": [
        {
          "output_type": "stream",
          "name": "stdout",
          "text": [
            "206683.83635227982\n"
          ]
        }
      ]
    },
    {
      "cell_type": "code",
      "source": [
        "print(df[(df['population'] < 500) & (df['population'] > 0)] [\"median_house_value\"].median())"
      ],
      "metadata": {
        "colab": {
          "base_uri": "https://localhost:8080/"
        },
        "id": "a6Aqbl1CSLG7",
        "outputId": "f859e5cb-54b6-49a4-9fef-c33ae0757ccb"
      },
      "execution_count": 25,
      "outputs": [
        {
          "output_type": "stream",
          "name": "stdout",
          "text": [
            "169500.0\n"
          ]
        }
      ]
    },
    {
      "cell_type": "code",
      "source": [
        "df[(df['population'] < 500) & (df['population'] > 0)] [\"median_house_value\"].describe()"
      ],
      "metadata": {
        "colab": {
          "base_uri": "https://localhost:8080/"
        },
        "id": "UOI2PRAGTioR",
        "outputId": "cdda9778-615f-464b-ca1c-59703b86e40f"
      },
      "execution_count": 27,
      "outputs": [
        {
          "output_type": "execute_result",
          "data": {
            "text/plain": [
              "count      1601.000000\n",
              "mean     206683.836352\n",
              "std      131741.091058\n",
              "min       14999.000000\n",
              "25%      103300.000000\n",
              "50%      169500.000000\n",
              "75%      275000.000000\n",
              "max      500001.000000\n",
              "Name: median_house_value, dtype: float64"
            ]
          },
          "metadata": {},
          "execution_count": 27
        }
      ]
    },
    {
      "cell_type": "markdown",
      "source": [
        "# 9.2[42]: Работа в Google Colab. Файл sample_datacalifornia_housing_train.csv, который находится в папке sample_data\n",
        "Узнать какая максимальная households в зоне минимального значения population"
      ],
      "metadata": {
        "id": "Yx-LOQ6eU2as"
      }
    },
    {
      "cell_type": "code",
      "source": [
        "df[df['population'] == df['population'].min()]['households'].max"
      ],
      "metadata": {
        "colab": {
          "base_uri": "https://localhost:8080/"
        },
        "id": "jMqQ7AKFWKfu",
        "outputId": "aabca7f5-0626-47b5-fba5-95ffb5afe6ae"
      },
      "execution_count": 18,
      "outputs": [
        {
          "output_type": "execute_result",
          "data": {
            "text/plain": [
              "<bound method NDFrame._add_numeric_operations.<locals>.max of 8232    4.0\n",
              "Name: households, dtype: float64>"
            ]
          },
          "metadata": {},
          "execution_count": 18
        }
      ]
    }
  ]
}